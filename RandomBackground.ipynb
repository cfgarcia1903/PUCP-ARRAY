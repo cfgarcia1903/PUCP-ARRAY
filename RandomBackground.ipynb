{
 "cells": [
  {
   "cell_type": "markdown",
   "id": "20eaedf3-c968-4b76-b86a-fb30dfafdcb4",
   "metadata": {},
   "source": [
    "# Monte Carlo Simulation of the Random Background"
   ]
  },
  {
   "cell_type": "code",
   "execution_count": 1,
   "id": "49cc357b-fef7-443a-ba4c-db9b5e5024a8",
   "metadata": {
    "tags": []
   },
   "outputs": [],
   "source": [
    "import numpy as np\n",
    "import pandas as pd\n",
    "import matplotlib.pyplot as plt\n",
    "from scipy.optimize import curve_fit\n",
    "from scipy.special import erf\n",
    "from scipy.stats import norm"
   ]
  },
  {
   "cell_type": "markdown",
   "id": "c932b410-f722-4104-9b75-2668713a8159",
   "metadata": {},
   "source": [
    "## RandomBackgroundV1"
   ]
  },
  {
   "cell_type": "code",
   "execution_count": 2,
   "id": "c74c8a04-2e4e-4e92-abf3-cd812fe5221e",
   "metadata": {
    "tags": []
   },
   "outputs": [],
   "source": [
    "detector_area=5*185*16 ## in cm^2\n",
    "flux_by_second=detector_area*1/60 ##muonic flux in one detector each second\n",
    "sampling_time= 15E-9\n",
    "t_0= 0\n",
    "t_f= 1"
   ]
  },
  {
   "cell_type": "code",
   "execution_count": 3,
   "id": "9f3e7f14-013a-4cda-9963-e4f200a16e32",
   "metadata": {
    "tags": []
   },
   "outputs": [],
   "source": [
    "flux_by_sample= flux_by_second*sampling_time"
   ]
  },
  {
   "cell_type": "code",
   "execution_count": 4,
   "id": "34ee2025-c246-4c47-92b0-b68d477ad5ab",
   "metadata": {
    "tags": []
   },
   "outputs": [
    {
     "data": {
      "text/plain": [
       "246.66666666666666"
      ]
     },
     "execution_count": 4,
     "metadata": {},
     "output_type": "execute_result"
    }
   ],
   "source": [
    "flux_by_second"
   ]
  },
  {
   "cell_type": "code",
   "execution_count": 65,
   "id": "60c7ad70-48fe-43e7-a120-1de82ff85c70",
   "metadata": {
    "tags": []
   },
   "outputs": [
    {
     "name": "stdout",
     "output_type": "stream",
     "text": [
      " 99 % \r"
     ]
    }
   ],
   "source": [
    "t=t_0\n",
    "progress=0\n",
    "\n",
    "det1_list=[]\n",
    "det2_list=[]\n",
    "det3_list=[]\n",
    "\n",
    "while t<=t_f:\n",
    "    m1=np.random.poisson(lam=flux_by_sample)\n",
    "    m2=np.random.poisson(lam=flux_by_sample)\n",
    "    m3=np.random.poisson(lam=flux_by_sample)\n",
    "    \n",
    "    if m1!=0:\n",
    "        det1_list.append({'Muons': m1, 'Time': t})\n",
    "    if m2!=0:\n",
    "        det2_list.append({'Muons': m2, 'Time': t})\n",
    "    if m3!=0:\n",
    "        det3_list.append({'Muons': m3, 'Time': t})\n",
    "    \n",
    "    newprogress= int((t-t_0)/(t_f-t_0)*100)\n",
    "    if progress!=newprogress:\n",
    "        progress=newprogress\n",
    "        print(\"%3d %% \\r\" % progress, end=\"\")\n",
    "    t+=sampling_time\n",
    "\n",
    "det1 = pd.DataFrame(det1_list,columns=['Muons', 'Time'])\n",
    "det2 = pd.DataFrame(det2_list,columns=['Muons', 'Time'])\n",
    "det3 = pd.DataFrame(det3_list,columns=['Muons', 'Time'])"
   ]
  },
  {
   "cell_type": "code",
   "execution_count": 75,
   "id": "158b7ea6-a497-45e9-a6bd-0a185ebe1a22",
   "metadata": {
    "tags": []
   },
   "outputs": [
    {
     "data": {
      "text/html": [
       "<div>\n",
       "<style scoped>\n",
       "    .dataframe tbody tr th:only-of-type {\n",
       "        vertical-align: middle;\n",
       "    }\n",
       "\n",
       "    .dataframe tbody tr th {\n",
       "        vertical-align: top;\n",
       "    }\n",
       "\n",
       "    .dataframe thead th {\n",
       "        text-align: right;\n",
       "    }\n",
       "</style>\n",
       "<table border=\"1\" class=\"dataframe\">\n",
       "  <thead>\n",
       "    <tr style=\"text-align: right;\">\n",
       "      <th></th>\n",
       "      <th>Muons</th>\n",
       "      <th>Time</th>\n",
       "    </tr>\n",
       "  </thead>\n",
       "  <tbody>\n",
       "    <tr>\n",
       "      <th>0</th>\n",
       "      <td>1</td>\n",
       "      <td>0.000784</td>\n",
       "    </tr>\n",
       "    <tr>\n",
       "      <th>1</th>\n",
       "      <td>1</td>\n",
       "      <td>0.003849</td>\n",
       "    </tr>\n",
       "    <tr>\n",
       "      <th>2</th>\n",
       "      <td>1</td>\n",
       "      <td>0.015281</td>\n",
       "    </tr>\n",
       "    <tr>\n",
       "      <th>3</th>\n",
       "      <td>1</td>\n",
       "      <td>0.018760</td>\n",
       "    </tr>\n",
       "    <tr>\n",
       "      <th>4</th>\n",
       "      <td>1</td>\n",
       "      <td>0.019913</td>\n",
       "    </tr>\n",
       "    <tr>\n",
       "      <th>...</th>\n",
       "      <td>...</td>\n",
       "      <td>...</td>\n",
       "    </tr>\n",
       "    <tr>\n",
       "      <th>252</th>\n",
       "      <td>1</td>\n",
       "      <td>0.968571</td>\n",
       "    </tr>\n",
       "    <tr>\n",
       "      <th>253</th>\n",
       "      <td>1</td>\n",
       "      <td>0.977647</td>\n",
       "    </tr>\n",
       "    <tr>\n",
       "      <th>254</th>\n",
       "      <td>1</td>\n",
       "      <td>0.980989</td>\n",
       "    </tr>\n",
       "    <tr>\n",
       "      <th>255</th>\n",
       "      <td>1</td>\n",
       "      <td>0.996652</td>\n",
       "    </tr>\n",
       "    <tr>\n",
       "      <th>256</th>\n",
       "      <td>1</td>\n",
       "      <td>0.999133</td>\n",
       "    </tr>\n",
       "  </tbody>\n",
       "</table>\n",
       "<p>257 rows × 2 columns</p>\n",
       "</div>"
      ],
      "text/plain": [
       "     Muons      Time\n",
       "0        1  0.000784\n",
       "1        1  0.003849\n",
       "2        1  0.015281\n",
       "3        1  0.018760\n",
       "4        1  0.019913\n",
       "..     ...       ...\n",
       "252      1  0.968571\n",
       "253      1  0.977647\n",
       "254      1  0.980989\n",
       "255      1  0.996652\n",
       "256      1  0.999133\n",
       "\n",
       "[257 rows x 2 columns]"
      ]
     },
     "metadata": {},
     "output_type": "display_data"
    },
    {
     "data": {
      "text/html": [
       "<div>\n",
       "<style scoped>\n",
       "    .dataframe tbody tr th:only-of-type {\n",
       "        vertical-align: middle;\n",
       "    }\n",
       "\n",
       "    .dataframe tbody tr th {\n",
       "        vertical-align: top;\n",
       "    }\n",
       "\n",
       "    .dataframe thead th {\n",
       "        text-align: right;\n",
       "    }\n",
       "</style>\n",
       "<table border=\"1\" class=\"dataframe\">\n",
       "  <thead>\n",
       "    <tr style=\"text-align: right;\">\n",
       "      <th></th>\n",
       "      <th>Muons</th>\n",
       "      <th>Time</th>\n",
       "    </tr>\n",
       "  </thead>\n",
       "  <tbody>\n",
       "    <tr>\n",
       "      <th>0</th>\n",
       "      <td>1</td>\n",
       "      <td>0.004400</td>\n",
       "    </tr>\n",
       "    <tr>\n",
       "      <th>1</th>\n",
       "      <td>1</td>\n",
       "      <td>0.006181</td>\n",
       "    </tr>\n",
       "    <tr>\n",
       "      <th>2</th>\n",
       "      <td>1</td>\n",
       "      <td>0.008989</td>\n",
       "    </tr>\n",
       "    <tr>\n",
       "      <th>3</th>\n",
       "      <td>1</td>\n",
       "      <td>0.020685</td>\n",
       "    </tr>\n",
       "    <tr>\n",
       "      <th>4</th>\n",
       "      <td>1</td>\n",
       "      <td>0.020830</td>\n",
       "    </tr>\n",
       "    <tr>\n",
       "      <th>...</th>\n",
       "      <td>...</td>\n",
       "      <td>...</td>\n",
       "    </tr>\n",
       "    <tr>\n",
       "      <th>250</th>\n",
       "      <td>1</td>\n",
       "      <td>0.991367</td>\n",
       "    </tr>\n",
       "    <tr>\n",
       "      <th>251</th>\n",
       "      <td>1</td>\n",
       "      <td>0.997255</td>\n",
       "    </tr>\n",
       "    <tr>\n",
       "      <th>252</th>\n",
       "      <td>1</td>\n",
       "      <td>0.998394</td>\n",
       "    </tr>\n",
       "    <tr>\n",
       "      <th>253</th>\n",
       "      <td>1</td>\n",
       "      <td>0.998592</td>\n",
       "    </tr>\n",
       "    <tr>\n",
       "      <th>254</th>\n",
       "      <td>1</td>\n",
       "      <td>0.999310</td>\n",
       "    </tr>\n",
       "  </tbody>\n",
       "</table>\n",
       "<p>255 rows × 2 columns</p>\n",
       "</div>"
      ],
      "text/plain": [
       "     Muons      Time\n",
       "0        1  0.004400\n",
       "1        1  0.006181\n",
       "2        1  0.008989\n",
       "3        1  0.020685\n",
       "4        1  0.020830\n",
       "..     ...       ...\n",
       "250      1  0.991367\n",
       "251      1  0.997255\n",
       "252      1  0.998394\n",
       "253      1  0.998592\n",
       "254      1  0.999310\n",
       "\n",
       "[255 rows x 2 columns]"
      ]
     },
     "metadata": {},
     "output_type": "display_data"
    },
    {
     "data": {
      "text/html": [
       "<div>\n",
       "<style scoped>\n",
       "    .dataframe tbody tr th:only-of-type {\n",
       "        vertical-align: middle;\n",
       "    }\n",
       "\n",
       "    .dataframe tbody tr th {\n",
       "        vertical-align: top;\n",
       "    }\n",
       "\n",
       "    .dataframe thead th {\n",
       "        text-align: right;\n",
       "    }\n",
       "</style>\n",
       "<table border=\"1\" class=\"dataframe\">\n",
       "  <thead>\n",
       "    <tr style=\"text-align: right;\">\n",
       "      <th></th>\n",
       "      <th>Muons</th>\n",
       "      <th>Time</th>\n",
       "    </tr>\n",
       "  </thead>\n",
       "  <tbody>\n",
       "    <tr>\n",
       "      <th>0</th>\n",
       "      <td>1</td>\n",
       "      <td>0.001772</td>\n",
       "    </tr>\n",
       "    <tr>\n",
       "      <th>1</th>\n",
       "      <td>1</td>\n",
       "      <td>0.008355</td>\n",
       "    </tr>\n",
       "    <tr>\n",
       "      <th>2</th>\n",
       "      <td>1</td>\n",
       "      <td>0.012898</td>\n",
       "    </tr>\n",
       "    <tr>\n",
       "      <th>3</th>\n",
       "      <td>1</td>\n",
       "      <td>0.016118</td>\n",
       "    </tr>\n",
       "    <tr>\n",
       "      <th>4</th>\n",
       "      <td>1</td>\n",
       "      <td>0.018914</td>\n",
       "    </tr>\n",
       "    <tr>\n",
       "      <th>...</th>\n",
       "      <td>...</td>\n",
       "      <td>...</td>\n",
       "    </tr>\n",
       "    <tr>\n",
       "      <th>260</th>\n",
       "      <td>1</td>\n",
       "      <td>0.991444</td>\n",
       "    </tr>\n",
       "    <tr>\n",
       "      <th>261</th>\n",
       "      <td>1</td>\n",
       "      <td>0.991524</td>\n",
       "    </tr>\n",
       "    <tr>\n",
       "      <th>262</th>\n",
       "      <td>1</td>\n",
       "      <td>0.992583</td>\n",
       "    </tr>\n",
       "    <tr>\n",
       "      <th>263</th>\n",
       "      <td>1</td>\n",
       "      <td>0.993502</td>\n",
       "    </tr>\n",
       "    <tr>\n",
       "      <th>264</th>\n",
       "      <td>1</td>\n",
       "      <td>0.993910</td>\n",
       "    </tr>\n",
       "  </tbody>\n",
       "</table>\n",
       "<p>265 rows × 2 columns</p>\n",
       "</div>"
      ],
      "text/plain": [
       "     Muons      Time\n",
       "0        1  0.001772\n",
       "1        1  0.008355\n",
       "2        1  0.012898\n",
       "3        1  0.016118\n",
       "4        1  0.018914\n",
       "..     ...       ...\n",
       "260      1  0.991444\n",
       "261      1  0.991524\n",
       "262      1  0.992583\n",
       "263      1  0.993502\n",
       "264      1  0.993910\n",
       "\n",
       "[265 rows x 2 columns]"
      ]
     },
     "metadata": {},
     "output_type": "display_data"
    }
   ],
   "source": [
    "display(det3)\n",
    "display(det2)\n",
    "display(det1)"
   ]
  },
  {
   "cell_type": "markdown",
   "id": "6df83eea-aeb3-4de4-9192-1c91e43006ef",
   "metadata": {},
   "source": [
    "## RandomBackgroundV2"
   ]
  },
  {
   "cell_type": "code",
   "execution_count": 76,
   "id": "70d0f4fb-8a2f-448a-aecd-95f505364fbe",
   "metadata": {
    "tags": []
   },
   "outputs": [],
   "source": [
    "detector_area=5*185*16 ## in cm^2\n",
    "flux=1 ## muons by cm^2 by minute\n",
    "flux_by_second=detector_area*flux/60 ##muonic flux in one detector each second\n",
    "sampling_time= 15E-9\n",
    "\n",
    "t_0= 0\n",
    "t_f= 1"
   ]
  },
  {
   "cell_type": "code",
   "execution_count": 78,
   "id": "258e1de9-c56b-4b15-83ec-b4b1036f2da8",
   "metadata": {
    "tags": []
   },
   "outputs": [],
   "source": [
    "timestamps=[t_0+sampling_time*i for i in range(int((t_f-t_0)/sampling_time))]"
   ]
  },
  {
   "cell_type": "code",
   "execution_count": 91,
   "id": "9642f7c5-3783-47ac-910b-456bb5ecd93a",
   "metadata": {
    "tags": []
   },
   "outputs": [],
   "source": [
    "det_1=np.random.poisson(lam=flux_by_second*(t_f-t_0))\n",
    "det_2=np.random.poisson(lam=flux_by_second*(t_f-t_0))\n",
    "det_3=np.random.poisson(lam=flux_by_second*(t_f-t_0))"
   ]
  },
  {
   "cell_type": "code",
   "execution_count": null,
   "id": "d893fb2e-dcdf-4c9d-9cf4-9d47541d7738",
   "metadata": {},
   "outputs": [],
   "source": [
    "np.random.choice(timestamps, size=det_1, replace=True)"
   ]
  },
  {
   "cell_type": "markdown",
   "id": "05882439-2cec-49d9-9ba0-cc24c0dfe05a",
   "metadata": {},
   "source": [
    "## RandomBackground V3"
   ]
  },
  {
   "cell_type": "code",
   "execution_count": 4,
   "id": "5c769823-6918-4300-953a-68946baf27e8",
   "metadata": {
    "tags": []
   },
   "outputs": [],
   "source": [
    "detector_area=5*185*16 ## in cm^2\n",
    "##muon flux in one detector each second\n",
    "flux_by_second=detector_area*1/60 \n",
    "\n",
    "t_0= 0\n",
    "t_f= 0.04\n",
    "time_step=1E-5\n",
    "\n",
    "trials=50000"
   ]
  },
  {
   "cell_type": "code",
   "execution_count": 5,
   "id": "159e53c2-ffd3-408b-b71f-4e284e5d8265",
   "metadata": {
    "tags": []
   },
   "outputs": [
    {
     "name": "stdout",
     "output_type": "stream",
     "text": [
      "0 - 1e-05 - 2e-05 - 3.0000000000000004e-05 - 4e-05 - 5e-05 - 6e-05 - 7.000000000000001e-05 - 8e-05 - 9e-05 - 0.0001 - 0.00011 - 0.00012 - 0.00013000000000000002 - 0.00014000000000000001 - 0.00015000000000000001 - 0.00016 - 0.00017 - 0.00018 - 0.00019 - 0.0002 - 0.00021 - 0.00022 - 0.00023 - 0.00024 - 0.00025 - 0.00026000000000000003 - 0.00027000000000000006 - 0.0002800000000000001 - 0.0002900000000000001 - 0.00030000000000000014 - 0.00031000000000000016 - 0.0003200000000000002 - 0.0003300000000000002 - 0.00034000000000000024 - 0.00035000000000000027 - 0.0003600000000000003 - 0.0003700000000000003 - 0.00038000000000000035 - 0.00039000000000000037 - 0.0004000000000000004 - 0.0004100000000000004 - 0.00042000000000000045 - 0.0004300000000000005 - 0.0004400000000000005 - 0.00045000000000000053 - 0.00046000000000000056 - 0.0004700000000000006 - 0.0004800000000000006 - 0.0004900000000000006 - 0.0005000000000000007 - 0.0005100000000000007 - 0.0005200000000000007 - 0.0005300000000000007 - 0.0005400000000000008 - 0.0005500000000000008 - 0.0005600000000000008 - 0.0005700000000000008 - 0.0005800000000000009 - 0.0005900000000000009 - 0.0006000000000000009 - 0.000610000000000001 - 0.000620000000000001 - 0.000630000000000001 - 0.000640000000000001 - 0.0006500000000000011 - 0.0006600000000000011 - 0.0006700000000000011 - 0.0006800000000000011 - 0.0006900000000000012 - 0.0007000000000000012 - 0.0007100000000000012 - 0.0007200000000000012 - 0.0007300000000000013 - 0.0007400000000000013 - 0.0007500000000000013 - 0.0007600000000000013 - 0.0007700000000000014 - 0.0007800000000000014 - 0.0007900000000000014 - 0.0008000000000000014 - 0.0008100000000000015 - 0.0008200000000000015 - 0.0008300000000000015 - 0.0008400000000000016 - "
     ]
    },
    {
     "ename": "KeyboardInterrupt",
     "evalue": "",
     "output_type": "error",
     "traceback": [
      "\u001b[1;31m---------------------------------------------------------------------------\u001b[0m",
      "\u001b[1;31mKeyboardInterrupt\u001b[0m                         Traceback (most recent call last)",
      "Cell \u001b[1;32mIn[5], line 13\u001b[0m\n\u001b[0;32m     11\u001b[0m successes_2\u001b[38;5;241m=\u001b[39m\u001b[38;5;241m0\u001b[39m\n\u001b[0;32m     12\u001b[0m \u001b[38;5;28;01mfor\u001b[39;00m i \u001b[38;5;129;01min\u001b[39;00m \u001b[38;5;28mrange\u001b[39m(trials):\n\u001b[1;32m---> 13\u001b[0m     m1\u001b[38;5;241m=\u001b[39mnp\u001b[38;5;241m.\u001b[39mrandom\u001b[38;5;241m.\u001b[39mpoisson(lam\u001b[38;5;241m=\u001b[39mflux_by_second\u001b[38;5;241m*\u001b[39mdelta_t)\n\u001b[0;32m     14\u001b[0m     m2\u001b[38;5;241m=\u001b[39mnp\u001b[38;5;241m.\u001b[39mrandom\u001b[38;5;241m.\u001b[39mpoisson(lam\u001b[38;5;241m=\u001b[39mflux_by_second\u001b[38;5;241m*\u001b[39mdelta_t)\n\u001b[0;32m     15\u001b[0m     m3\u001b[38;5;241m=\u001b[39mnp\u001b[38;5;241m.\u001b[39mrandom\u001b[38;5;241m.\u001b[39mpoisson(lam\u001b[38;5;241m=\u001b[39mflux_by_second\u001b[38;5;241m*\u001b[39mdelta_t)\n",
      "File \u001b[1;32mmtrand.pyx:3657\u001b[0m, in \u001b[0;36mnumpy.random.mtrand.RandomState.poisson\u001b[1;34m()\u001b[0m\n",
      "File \u001b[1;32mmtrand.pyx:114\u001b[0m, in \u001b[0;36mnumpy.random.mtrand.int64_to_long\u001b[1;34m()\u001b[0m\n",
      "File \u001b[1;32m~\\anaconda3\\Lib\\site-packages\\numpy\\core\\numeric.py:1878\u001b[0m, in \u001b[0;36misscalar\u001b[1;34m(element)\u001b[0m\n\u001b[0;32m   1874\u001b[0m \u001b[38;5;28;01mdef\u001b[39;00m \u001b[38;5;21m_frombuffer\u001b[39m(buf, dtype, shape, order):\n\u001b[0;32m   1875\u001b[0m     \u001b[38;5;28;01mreturn\u001b[39;00m frombuffer(buf, dtype\u001b[38;5;241m=\u001b[39mdtype)\u001b[38;5;241m.\u001b[39mreshape(shape, order\u001b[38;5;241m=\u001b[39morder)\n\u001b[1;32m-> 1878\u001b[0m \u001b[38;5;129m@set_module\u001b[39m(\u001b[38;5;124m'\u001b[39m\u001b[38;5;124mnumpy\u001b[39m\u001b[38;5;124m'\u001b[39m)\n\u001b[0;32m   1879\u001b[0m \u001b[38;5;28;01mdef\u001b[39;00m \u001b[38;5;21misscalar\u001b[39m(element):\n\u001b[0;32m   1880\u001b[0m \u001b[38;5;250m    \u001b[39m\u001b[38;5;124;03m\"\"\"\u001b[39;00m\n\u001b[0;32m   1881\u001b[0m \u001b[38;5;124;03m    Returns True if the type of `element` is a scalar type.\u001b[39;00m\n\u001b[0;32m   1882\u001b[0m \n\u001b[1;32m   (...)\u001b[0m\n\u001b[0;32m   1952\u001b[0m \n\u001b[0;32m   1953\u001b[0m \u001b[38;5;124;03m    \"\"\"\u001b[39;00m\n\u001b[0;32m   1954\u001b[0m     \u001b[38;5;28;01mreturn\u001b[39;00m (\u001b[38;5;28misinstance\u001b[39m(element, generic)\n\u001b[0;32m   1955\u001b[0m             \u001b[38;5;129;01mor\u001b[39;00m \u001b[38;5;28mtype\u001b[39m(element) \u001b[38;5;129;01min\u001b[39;00m ScalarType\n\u001b[0;32m   1956\u001b[0m             \u001b[38;5;129;01mor\u001b[39;00m \u001b[38;5;28misinstance\u001b[39m(element, numbers\u001b[38;5;241m.\u001b[39mNumber))\n",
      "\u001b[1;31mKeyboardInterrupt\u001b[0m: "
     ]
    }
   ],
   "source": [
    "times_list=[]\n",
    "probs_3_list=[]\n",
    "probs_at_least2_list=[]\n",
    "probs_2_list=[]\n",
    "\n",
    "delta_t=0\n",
    "while delta_t <= t_f:\n",
    "    print(f'{delta_t}',end=' - ')\n",
    "    successes_3=0\n",
    "    successes_at_least2=0\n",
    "    successes_2=0\n",
    "    for i in range(trials):\n",
    "        m1=np.random.poisson(lam=flux_by_second*delta_t)\n",
    "        m2=np.random.poisson(lam=flux_by_second*delta_t)\n",
    "        m3=np.random.poisson(lam=flux_by_second*delta_t)\n",
    "        \n",
    "        m1=np.heaviside(m1,0)\n",
    "        m2=np.heaviside(m2,0)\n",
    "        m3=np.heaviside(m3,0)\n",
    "        \n",
    "        if m1+m2+m3==3:\n",
    "            successes_3+=1     ## three detectors are reached\n",
    "        if m1+m2+m3>=2:\n",
    "            successes_at_least2+=1   ## at least two detectors are reached\n",
    "        if m1+m2+m3==2:\n",
    "            successes_2+=1       ## only two detectors are reached\n",
    "    \n",
    "    probability_3= successes_3/trials\n",
    "    probability_at_least2= successes_at_least2/trials\n",
    "    probability_2= successes_2/trials\n",
    "\n",
    "    times_list.append(delta_t)\n",
    "    probs_3_list.append(probability_3)\n",
    "    probs_at_least2_list.append(probability_at_least2)\n",
    "    probs_2_list.append(probability_2)\n",
    "    \n",
    "    delta_t+=time_step \n",
    "\n",
    "    "
   ]
  },
  {
   "cell_type": "code",
   "execution_count": 26,
   "id": "a5a3c25a-bd2b-4d2b-b0b3-a5fc371cdc54",
   "metadata": {
    "tags": []
   },
   "outputs": [],
   "source": [
    "def model_3(delta_t, h_scale):\n",
    "    return erf(h_scale*np.asarray(delta_t))\n",
    "def model_at_least2(delta_t, h_scale):\n",
    "    return erf(h_scale*np.asarray(delta_t))\n",
    "def model_2(time_delta, mu, sigma,amp):\n",
    "    return amp*norm.pdf((time_delta - mu) / sigma)\n",
    "\n",
    "\n",
    "params_3, covariance_3 = curve_fit(model_3, times_list, probs_3_list, p0=[0.1])\n",
    "params_at_least2, covariance_at_least2 = curve_fit(model_at_least2, times_list, probs_at_least2_list, p0=[0.1])\n",
    "params_2, covariance_2 = curve_fit(model_2, times_list, probs_2_list,p0=[0.005,0.001,1.5])"
   ]
  },
  {
   "cell_type": "code",
   "execution_count": 36,
   "id": "6393a157-9307-4e9a-a729-d337b90763b3",
   "metadata": {
    "tags": []
   },
   "outputs": [
    {
     "data": {
      "image/png": "[encoded data removed]",
      "text/plain": [
       "<Figure size 640x480 with 1 Axes>"
      ]
     },
     "metadata": {},
     "output_type": "display_data"
    }
   ],
   "source": [
    "plt.plot(np.asarray(times_list)*1000, probs_3_list, label='3 detectors')\n",
    "plt.plot(np.asarray(times_list)*1000, probs_at_least2_list, label='At least 2 detectors')\n",
    "plt.plot(np.asarray(times_list)*1000, probs_2_list, label='Only 2 detectors')\n",
    "\n",
    "\n",
    "\n",
    "plt.title('Probability of Muon Background Hitting the Detectors')\n",
    "plt.xlabel('Time Delta (ms)')\n",
    "plt.ylabel('Probability')\n",
    "plt.grid(True)\n",
    "plt.legend(loc='best', title=\"\", shadow=True, fancybox=True)\n",
    "plt.show()"
   ]
  },
  {
   "cell_type": "markdown",
   "id": "151b776f-19a0-4e5a-9167-8c6070d4fa6f",
   "metadata": {},
   "source": [
    "## Random Background V3.1"
   ]
  },
  {
   "cell_type": "code",
   "execution_count": 5,
   "id": "538d6733-42c2-4562-b302-5c7ed5b6487f",
   "metadata": {
    "tags": []
   },
   "outputs": [],
   "source": [
    "detector_area=5*185*16 ## in cm^2\n",
    "##muon flux in one detector each second\n",
    "flux_by_second=detector_area*1/60 \n",
    "\n",
    "t_0= 0\n",
    "t_f= 1E-9\n",
    "time_step=1E-15\n",
    "\n",
    "trials=100000"
   ]
  },
  {
   "cell_type": "code",
   "execution_count": null,
   "id": "3ab70c0f-2043-4602-9d87-1c19123cb5c2",
   "metadata": {
    "tags": []
   },
   "outputs": [
    {
     "name": "stdout",
     "output_type": "stream",
     "text": [
      "0 - 1e-15 - 2e-15 - 3.0000000000000002e-15 - 4e-15 - 5.000000000000001e-15 - 6.000000000000001e-15 - 7.000000000000002e-15 - 8.000000000000002e-15 - 9.000000000000003e-15 - 1.0000000000000003e-14 - 1.1000000000000004e-14 - 1.2000000000000004e-14 - 1.3000000000000005e-14 - 1.4000000000000005e-14 - 1.5000000000000006e-14 - 1.6000000000000004e-14 - 1.7000000000000003e-14 - 1.8000000000000002e-14 - 1.9e-14 - 2e-14 - 2.1e-14 - 2.1999999999999998e-14 - 2.2999999999999997e-14 - 2.3999999999999996e-14 - 2.4999999999999994e-14 - 2.5999999999999993e-14 - 2.6999999999999992e-14 - 2.799999999999999e-14 - 2.899999999999999e-14 - 2.999999999999999e-14 - 3.0999999999999994e-14 - 3.1999999999999996e-14 - 3.3e-14 - 3.4e-14 - 3.5e-14 - 3.6000000000000004e-14 - 3.7000000000000006e-14 - 3.800000000000001e-14 - 3.900000000000001e-14 - 4.000000000000001e-14 - 4.1000000000000015e-14 - 4.2000000000000017e-14 - 4.300000000000002e-14 - 4.400000000000002e-14 - 4.500000000000002e-14 - 4.6000000000000025e-14 - 4.700000000000003e-14 - 4.800000000000003e-14 - 4.900000000000003e-14 - 5.000000000000003e-14 - 5.1000000000000035e-14 - 5.200000000000004e-14 - 5.300000000000004e-14 - 5.400000000000004e-14 - 5.5000000000000043e-14 - 5.6000000000000045e-14 - 5.700000000000005e-14 - 5.800000000000004e-14 - 5.900000000000004e-14 - 6.000000000000003e-14 - 6.100000000000003e-14 - 6.200000000000003e-14 - 6.300000000000002e-14 - 6.400000000000002e-14 - 6.500000000000001e-14 - 6.600000000000001e-14 - 6.7e-14 - 6.8e-14 - 6.9e-14 - 6.999999999999999e-14 - 7.099999999999999e-14 - 7.199999999999998e-14 - 7.299999999999998e-14 - 7.399999999999997e-14 - 7.499999999999997e-14 - 7.599999999999997e-14 - 7.699999999999996e-14 - 7.799999999999996e-14 - 7.899999999999995e-14 - 7.999999999999995e-14 - 8.099999999999995e-14 - 8.199999999999994e-14 - 8.299999999999994e-14 - 8.399999999999993e-14 - 8.499999999999993e-14 - 8.599999999999992e-14 - 8.699999999999992e-14 - 8.799999999999992e-14 - 8.899999999999991e-14 - 8.999999999999991e-14 - 9.09999999999999e-14 - 9.19999999999999e-14 - 9.29999999999999e-14 - 9.399999999999989e-14 - 9.499999999999989e-14 - 9.599999999999988e-14 - 9.699999999999988e-14 - 9.799999999999987e-14 - 9.899999999999987e-14 - 9.999999999999986e-14 - 1.0099999999999986e-13 - 1.0199999999999986e-13 - 1.0299999999999985e-13 - 1.0399999999999985e-13 - 1.0499999999999984e-13 - 1.0599999999999984e-13 - 1.0699999999999983e-13 - 1.0799999999999983e-13 - 1.0899999999999983e-13 - 1.0999999999999982e-13 - 1.1099999999999982e-13 - 1.1199999999999981e-13 - 1.1299999999999981e-13 - 1.1399999999999982e-13 - 1.1499999999999981e-13 - 1.159999999999998e-13 - 1.169999999999998e-13 - 1.179999999999998e-13 - 1.189999999999998e-13 - 1.199999999999998e-13 - 1.2099999999999979e-13 - 1.2199999999999978e-13 - 1.2299999999999978e-13 - 1.2399999999999977e-13 - 1.2499999999999977e-13 - 1.2599999999999977e-13 - 1.2699999999999976e-13 - 1.2799999999999976e-13 - 1.2899999999999975e-13 - 1.2999999999999975e-13 - 1.3099999999999974e-13 - 1.3199999999999974e-13 - 1.3299999999999974e-13 - 1.3399999999999973e-13 - 1.3499999999999973e-13 - 1.3599999999999972e-13 - 1.3699999999999972e-13 - 1.3799999999999971e-13 - 1.389999999999997e-13 - 1.399999999999997e-13 - 1.409999999999997e-13 - 1.419999999999997e-13 - 1.429999999999997e-13 - 1.439999999999997e-13 - 1.4499999999999969e-13 - 1.4599999999999968e-13 - 1.4699999999999968e-13 - 1.4799999999999967e-13 - 1.4899999999999967e-13 - 1.4999999999999966e-13 - 1.5099999999999966e-13 - 1.5199999999999966e-13 - 1.5299999999999965e-13 - 1.5399999999999965e-13 - 1.5499999999999964e-13 - 1.5599999999999964e-13 - 1.5699999999999963e-13 - 1.5799999999999963e-13 - 1.5899999999999963e-13 - 1.5999999999999962e-13 - 1.6099999999999962e-13 - 1.6199999999999961e-13 - 1.629999999999996e-13 - 1.639999999999996e-13 - 1.649999999999996e-13 - 1.659999999999996e-13 - 1.669999999999996e-13 - 1.6799999999999959e-13 - 1.6899999999999958e-13 - 1.6999999999999958e-13 - 1.7099999999999957e-13 - 1.7199999999999957e-13 - 1.7299999999999957e-13 - 1.7399999999999956e-13 - 1.7499999999999956e-13 - 1.7599999999999955e-13 - 1.7699999999999955e-13 - 1.7799999999999954e-13 - 1.7899999999999954e-13 - 1.7999999999999954e-13 - 1.8099999999999953e-13 - 1.8199999999999953e-13 - 1.8299999999999952e-13 - 1.8399999999999952e-13 - 1.8499999999999951e-13 - 1.859999999999995e-13 - 1.869999999999995e-13 - 1.879999999999995e-13 - 1.889999999999995e-13 - 1.899999999999995e-13 - 1.909999999999995e-13 - 1.9199999999999948e-13 - 1.9299999999999948e-13 - 1.9399999999999948e-13 - 1.9499999999999947e-13 - 1.9599999999999947e-13 - 1.9699999999999946e-13 - 1.9799999999999946e-13 - 1.9899999999999945e-13 - 1.9999999999999945e-13 - 2.0099999999999945e-13 - 2.0199999999999944e-13 - 2.0299999999999944e-13 - 2.0399999999999943e-13 - 2.0499999999999943e-13 - 2.0599999999999943e-13 - 2.0699999999999942e-13 - 2.0799999999999942e-13 - 2.089999999999994e-13 - 2.099999999999994e-13 - 2.109999999999994e-13 - 2.119999999999994e-13 - 2.129999999999994e-13 - 2.139999999999994e-13 - 2.1499999999999939e-13 - 2.1599999999999938e-13 - 2.1699999999999938e-13 - 2.1799999999999937e-13 - 2.1899999999999937e-13 - 2.1999999999999937e-13 - 2.2099999999999936e-13 - 2.2199999999999936e-13 - 2.2299999999999935e-13 - 2.2399999999999935e-13 - 2.2499999999999934e-13 - 2.2599999999999934e-13 - 2.2699999999999934e-13 - 2.2799999999999933e-13 - 2.2899999999999933e-13 - 2.299999999999993e-13 - 2.309999999999993e-13 - 2.319999999999993e-13 - 2.329999999999993e-13 - 2.339999999999993e-13 - 2.349999999999993e-13 - 2.359999999999993e-13 - 2.369999999999993e-13 - 2.379999999999993e-13 - 2.389999999999993e-13 - 2.399999999999993e-13 - 2.409999999999993e-13 - 2.4199999999999927e-13 - 2.4299999999999927e-13 - 2.4399999999999926e-13 - 2.4499999999999926e-13 - 2.4599999999999925e-13 - 2.4699999999999925e-13 - 2.4799999999999925e-13 - 2.4899999999999924e-13 - 2.4999999999999924e-13 - 2.5099999999999923e-13 - 2.5199999999999923e-13 - 2.529999999999992e-13 - 2.539999999999992e-13 - 2.549999999999992e-13 - 2.559999999999992e-13 - 2.569999999999992e-13 - 2.579999999999992e-13 - 2.589999999999992e-13 - 2.599999999999992e-13 - 2.609999999999992e-13 - 2.619999999999992e-13 - 2.629999999999992e-13 - 2.639999999999992e-13 - 2.6499999999999917e-13 - 2.6599999999999917e-13 - 2.6699999999999917e-13 - 2.6799999999999916e-13 - 2.6899999999999916e-13 - 2.6999999999999915e-13 - 2.7099999999999915e-13 - 2.7199999999999914e-13 - 2.7299999999999914e-13 - 2.7399999999999914e-13 - 2.7499999999999913e-13 - 2.7599999999999913e-13 - 2.769999999999991e-13 - 2.779999999999991e-13 - 2.789999999999991e-13 - 2.799999999999991e-13 - 2.809999999999991e-13 - 2.819999999999991e-13 - 2.829999999999991e-13 - 2.839999999999991e-13 - 2.849999999999991e-13 - 2.859999999999991e-13 - 2.869999999999991e-13 - 2.879999999999991e-13 - 2.8899999999999907e-13 - 2.8999999999999907e-13 - 2.9099999999999906e-13 - 2.9199999999999906e-13 - 2.9299999999999905e-13 - 2.9399999999999905e-13 - 2.9499999999999905e-13 - 2.9599999999999904e-13 - 2.9699999999999904e-13 - 2.9799999999999903e-13 - 2.9899999999999903e-13 - 2.99999999999999e-13 - 3.00999999999999e-13 - 3.01999999999999e-13 - 3.02999999999999e-13 - 3.03999999999999e-13 - 3.04999999999999e-13 - 3.05999999999999e-13 - 3.06999999999999e-13 - 3.07999999999999e-13 - 3.08999999999999e-13 - 3.09999999999999e-13 - 3.10999999999999e-13 - 3.1199999999999897e-13 - 3.1299999999999897e-13 - 3.1399999999999896e-13 - 3.1499999999999896e-13 - 3.1599999999999896e-13 - 3.1699999999999895e-13 - 3.1799999999999895e-13 - 3.1899999999999894e-13 - 3.1999999999999894e-13 - 3.2099999999999894e-13 - 3.2199999999999893e-13 - 3.2299999999999893e-13 - 3.239999999999989e-13 - 3.249999999999989e-13 - 3.259999999999989e-13 - 3.269999999999989e-13 - 3.279999999999989e-13 - 3.289999999999989e-13 - 3.299999999999989e-13 - 3.309999999999989e-13 - 3.319999999999989e-13 - 3.329999999999989e-13 - 3.339999999999989e-13 - 3.349999999999989e-13 - 3.3599999999999887e-13 - 3.3699999999999887e-13 - 3.3799999999999886e-13 - 3.3899999999999886e-13 - 3.3999999999999885e-13 - 3.4099999999999885e-13 - 3.4199999999999885e-13 - 3.4299999999999884e-13 - 3.4399999999999884e-13 - 3.4499999999999883e-13 - 3.4599999999999883e-13 - 3.469999999999988e-13 - 3.479999999999988e-13 - 3.489999999999988e-13 - 3.499999999999988e-13 - 3.509999999999988e-13 - 3.519999999999988e-13 - 3.529999999999988e-13 - 3.539999999999988e-13 - 3.549999999999988e-13 - 3.559999999999988e-13 - 3.569999999999988e-13 - 3.579999999999988e-13 - 3.5899999999999877e-13 - 3.5999999999999877e-13 - 3.6099999999999876e-13 - 3.6199999999999876e-13 - 3.6299999999999876e-13 - 3.6399999999999875e-13 - 3.6499999999999875e-13 - 3.6599999999999874e-13 - 3.6699999999999874e-13 - 3.6799999999999873e-13 - 3.6899999999999873e-13 - 3.6999999999999873e-13 - 3.709999999999987e-13 - 3.719999999999987e-13 - 3.729999999999987e-13 - 3.739999999999987e-13 - 3.749999999999987e-13 - 3.759999999999987e-13 - 3.769999999999987e-13 - 3.779999999999987e-13 - 3.789999999999987e-13 - 3.799999999999987e-13 - 3.809999999999987e-13 - 3.819999999999987e-13 - 3.8299999999999867e-13 - 3.8399999999999867e-13 - 3.8499999999999866e-13 - 3.8599999999999866e-13 - 3.8699999999999865e-13 - 3.8799999999999865e-13 - 3.8899999999999865e-13 - 3.8999999999999864e-13 - 3.9099999999999864e-13 - 3.9199999999999863e-13 - 3.9299999999999863e-13 - 3.939999999999986e-13 - 3.949999999999986e-13 - 3.959999999999986e-13 - 3.969999999999986e-13 - 3.979999999999986e-13 - 3.989999999999986e-13 - 3.999999999999986e-13 - 4.009999999999986e-13 - 4.019999999999986e-13 - 4.029999999999986e-13 - 4.039999999999986e-13 - 4.049999999999986e-13 - 4.0599999999999857e-13 - 4.0699999999999857e-13 - 4.0799999999999856e-13 - 4.0899999999999856e-13 - 4.0999999999999856e-13 - 4.1099999999999855e-13 - 4.1199999999999855e-13 - 4.1299999999999854e-13 - 4.1399999999999854e-13 - 4.1499999999999853e-13 - 4.1599999999999853e-13 - 4.1699999999999853e-13 - 4.179999999999985e-13 - 4.189999999999985e-13 - 4.199999999999985e-13 - 4.209999999999985e-13 - 4.219999999999985e-13 - 4.229999999999985e-13 - 4.239999999999985e-13 - 4.249999999999985e-13 - 4.259999999999985e-13 - 4.269999999999985e-13 - 4.279999999999985e-13 - 4.289999999999985e-13 - 4.2999999999999847e-13 - 4.3099999999999847e-13 - 4.3199999999999846e-13 - 4.3299999999999846e-13 - 4.3399999999999845e-13 - 4.3499999999999845e-13 - 4.3599999999999845e-13 - 4.3699999999999844e-13 - 4.3799999999999844e-13 - 4.3899999999999843e-13 - 4.3999999999999843e-13 - 4.409999999999984e-13 - 4.419999999999984e-13 - 4.429999999999984e-13 - 4.439999999999984e-13 - 4.449999999999984e-13 - 4.459999999999984e-13 - 4.469999999999984e-13 - 4.479999999999984e-13 - 4.489999999999984e-13 - 4.499999999999984e-13 - 4.509999999999984e-13 - 4.519999999999984e-13 - 4.5299999999999837e-13 - 4.5399999999999837e-13 - 4.549999999999984e-13 - 4.559999999999984e-13 - 4.569999999999984e-13 - 4.579999999999984e-13 - 4.589999999999983e-13 - 4.599999999999983e-13 - 4.609999999999983e-13 - 4.619999999999983e-13 - 4.629999999999983e-13 - 4.639999999999983e-13 - 4.649999999999983e-13 - 4.659999999999983e-13 - 4.669999999999983e-13 - 4.679999999999983e-13 - 4.689999999999983e-13 - 4.699999999999983e-13 - 4.709999999999983e-13 - 4.719999999999983e-13 - 4.729999999999983e-13 - 4.739999999999983e-13 - 4.749999999999983e-13 - 4.759999999999983e-13 - 4.769999999999983e-13 - 4.779999999999983e-13 - 4.789999999999983e-13 - 4.799999999999983e-13 - 4.809999999999983e-13 - 4.819999999999982e-13 - 4.829999999999982e-13 - 4.839999999999982e-13 - 4.849999999999982e-13 - 4.859999999999982e-13 - 4.869999999999982e-13 - 4.879999999999982e-13 - 4.889999999999982e-13 - 4.899999999999982e-13 - 4.909999999999982e-13 - 4.919999999999982e-13 - 4.929999999999982e-13 - 4.939999999999982e-13 - 4.949999999999982e-13 - 4.959999999999982e-13 - 4.969999999999982e-13 - 4.979999999999982e-13 - 4.989999999999982e-13 - 4.999999999999982e-13 - 5.009999999999982e-13 - 5.019999999999982e-13 - 5.029999999999982e-13 - 5.039999999999982e-13 - 5.049999999999982e-13 - 5.059999999999981e-13 - 5.069999999999981e-13 - 5.079999999999981e-13 - 5.089999999999981e-13 - 5.099999999999981e-13 - 5.109999999999981e-13 - 5.119999999999981e-13 - 5.129999999999981e-13 - 5.139999999999981e-13 - 5.149999999999981e-13 - 5.159999999999981e-13 - 5.169999999999981e-13 - 5.179999999999981e-13 - 5.189999999999981e-13 - 5.199999999999981e-13 - 5.209999999999981e-13 - 5.219999999999981e-13 - 5.229999999999981e-13 - 5.239999999999981e-13 - 5.249999999999981e-13 - 5.259999999999981e-13 - 5.269999999999981e-13 - 5.279999999999981e-13 - 5.28999999999998e-13 - 5.29999999999998e-13 - 5.30999999999998e-13 - 5.31999999999998e-13 - 5.32999999999998e-13 - 5.33999999999998e-13 - 5.34999999999998e-13 - 5.35999999999998e-13 - 5.36999999999998e-13 - 5.37999999999998e-13 - 5.38999999999998e-13 - 5.39999999999998e-13 - 5.40999999999998e-13 - 5.41999999999998e-13 - 5.42999999999998e-13 - 5.43999999999998e-13 - 5.44999999999998e-13 - 5.45999999999998e-13 - 5.46999999999998e-13 - 5.47999999999998e-13 - 5.48999999999998e-13 - 5.49999999999998e-13 - 5.50999999999998e-13 - 5.51999999999998e-13 - 5.529999999999979e-13 - 5.539999999999979e-13 - 5.549999999999979e-13 - 5.559999999999979e-13 - 5.569999999999979e-13 - 5.579999999999979e-13 - 5.589999999999979e-13 - 5.599999999999979e-13 - 5.609999999999979e-13 - 5.619999999999979e-13 - 5.629999999999979e-13 - 5.639999999999979e-13 - 5.649999999999979e-13 - 5.659999999999979e-13 - 5.669999999999979e-13 - 5.679999999999979e-13 - 5.689999999999979e-13 - 5.699999999999979e-13 - 5.709999999999979e-13 - 5.719999999999979e-13 - 5.729999999999979e-13 - 5.739999999999979e-13 - 5.749999999999979e-13 - 5.759999999999978e-13 - 5.769999999999978e-13 - 5.779999999999978e-13 - 5.789999999999978e-13 - 5.799999999999978e-13 - 5.809999999999978e-13 - 5.819999999999978e-13 - 5.829999999999978e-13 - 5.839999999999978e-13 - 5.849999999999978e-13 - 5.859999999999978e-13 - 5.869999999999978e-13 - 5.879999999999978e-13 - 5.889999999999978e-13 - 5.899999999999978e-13 - 5.909999999999978e-13 - 5.919999999999978e-13 - 5.929999999999978e-13 - 5.939999999999978e-13 - 5.949999999999978e-13 - 5.959999999999978e-13 - 5.969999999999978e-13 - 5.979999999999978e-13 - 5.989999999999978e-13 - 5.999999999999977e-13 - 6.009999999999977e-13 - 6.019999999999977e-13 - 6.029999999999977e-13 - 6.039999999999977e-13 - 6.049999999999977e-13 - 6.059999999999977e-13 - 6.069999999999977e-13 - 6.079999999999977e-13 - 6.089999999999977e-13 - 6.099999999999977e-13 - 6.109999999999977e-13 - 6.119999999999977e-13 - 6.129999999999977e-13 - 6.139999999999977e-13 - 6.149999999999977e-13 - 6.159999999999977e-13 - 6.169999999999977e-13 - 6.179999999999977e-13 - 6.189999999999977e-13 - 6.199999999999977e-13 - 6.209999999999977e-13 - 6.219999999999977e-13 - 6.229999999999976e-13 - 6.239999999999976e-13 - 6.249999999999976e-13 - 6.259999999999976e-13 - 6.269999999999976e-13 - 6.279999999999976e-13 - 6.289999999999976e-13 - 6.299999999999976e-13 - 6.309999999999976e-13 - 6.319999999999976e-13 - 6.329999999999976e-13 - 6.339999999999976e-13 - 6.349999999999976e-13 - 6.359999999999976e-13 - 6.369999999999976e-13 - 6.379999999999976e-13 - 6.389999999999976e-13 - 6.399999999999976e-13 - 6.409999999999976e-13 - 6.419999999999976e-13 - 6.429999999999976e-13 - 6.439999999999976e-13 - 6.449999999999976e-13 - 6.459999999999976e-13 - 6.469999999999975e-13 - 6.479999999999975e-13 - 6.489999999999975e-13 - 6.499999999999975e-13 - 6.509999999999975e-13 - 6.519999999999975e-13 - 6.529999999999975e-13 - 6.539999999999975e-13 - 6.549999999999975e-13 - 6.559999999999975e-13 - 6.569999999999975e-13 - 6.579999999999975e-13 - 6.589999999999975e-13 - 6.599999999999975e-13 - 6.609999999999975e-13 - 6.619999999999975e-13 - 6.629999999999975e-13 - 6.639999999999975e-13 - 6.649999999999975e-13 - 6.659999999999975e-13 - 6.669999999999975e-13 - 6.679999999999975e-13 - 6.689999999999975e-13 - 6.699999999999974e-13 - 6.709999999999974e-13 - 6.719999999999974e-13 - 6.729999999999974e-13 - 6.739999999999974e-13 - 6.749999999999974e-13 - 6.759999999999974e-13 - 6.769999999999974e-13 - 6.779999999999974e-13 - 6.789999999999974e-13 - 6.799999999999974e-13 - 6.809999999999974e-13 - 6.819999999999974e-13 - 6.829999999999974e-13 - 6.839999999999974e-13 - 6.849999999999974e-13 - 6.859999999999974e-13 - 6.869999999999974e-13 - 6.879999999999974e-13 - 6.889999999999974e-13 - 6.899999999999974e-13 - 6.909999999999974e-13 - 6.919999999999974e-13 - 6.929999999999974e-13 - 6.939999999999973e-13 - 6.949999999999973e-13 - 6.959999999999973e-13 - 6.969999999999973e-13 - 6.979999999999973e-13 - 6.989999999999973e-13 - 6.999999999999973e-13 - 7.009999999999973e-13 - 7.019999999999973e-13 - 7.029999999999973e-13 - 7.039999999999973e-13 - 7.049999999999973e-13 - 7.059999999999973e-13 - 7.069999999999973e-13 - 7.079999999999973e-13 - 7.089999999999973e-13 - 7.099999999999973e-13 - 7.109999999999973e-13 - 7.119999999999973e-13 - 7.129999999999973e-13 - 7.139999999999973e-13 - 7.149999999999973e-13 - 7.159999999999973e-13 - 7.169999999999972e-13 - 7.179999999999972e-13 - 7.189999999999972e-13 - 7.199999999999972e-13 - 7.209999999999972e-13 - 7.219999999999972e-13 - 7.229999999999972e-13 - 7.239999999999972e-13 - 7.249999999999972e-13 - 7.259999999999972e-13 - 7.269999999999972e-13 - 7.279999999999972e-13 - 7.289999999999972e-13 - 7.299999999999972e-13 - 7.309999999999972e-13 - 7.319999999999972e-13 - 7.329999999999972e-13 - 7.339999999999972e-13 - 7.349999999999972e-13 - 7.359999999999972e-13 - 7.369999999999972e-13 - 7.379999999999972e-13 - 7.389999999999972e-13 - 7.399999999999971e-13 - 7.409999999999971e-13 - 7.419999999999971e-13 - 7.429999999999971e-13 - 7.439999999999971e-13 - 7.449999999999971e-13 - 7.459999999999971e-13 - 7.469999999999971e-13 - 7.479999999999971e-13 - 7.489999999999971e-13 - 7.499999999999971e-13 - 7.509999999999971e-13 - 7.519999999999971e-13 - 7.529999999999971e-13 - 7.539999999999971e-13 - 7.549999999999971e-13 - 7.559999999999971e-13 - 7.569999999999971e-13 - 7.579999999999971e-13 - 7.589999999999971e-13 - 7.599999999999971e-13 - 7.609999999999971e-13 - 7.619999999999971e-13 - 7.629999999999971e-13 - 7.63999999999997e-13 - 7.64999999999997e-13 - 7.65999999999997e-13 - 7.66999999999997e-13 - 7.67999999999997e-13 - 7.68999999999997e-13 - 7.69999999999997e-13 - 7.70999999999997e-13 - 7.71999999999997e-13 - 7.72999999999997e-13 - 7.73999999999997e-13 - 7.74999999999997e-13 - 7.75999999999997e-13 - 7.76999999999997e-13 - 7.77999999999997e-13 - 7.78999999999997e-13 - 7.79999999999997e-13 - 7.80999999999997e-13 - 7.81999999999997e-13 - 7.82999999999997e-13 - 7.83999999999997e-13 - 7.84999999999997e-13 - 7.85999999999997e-13 - 7.869999999999969e-13 - 7.879999999999969e-13 - 7.889999999999969e-13 - 7.899999999999969e-13 - 7.909999999999969e-13 - 7.919999999999969e-13 - 7.929999999999969e-13 - 7.939999999999969e-13 - 7.949999999999969e-13 - 7.959999999999969e-13 - 7.969999999999969e-13 - 7.979999999999969e-13 - 7.989999999999969e-13 - 7.999999999999969e-13 - 8.009999999999969e-13 - 8.019999999999969e-13 - 8.029999999999969e-13 - 8.039999999999969e-13 - 8.049999999999969e-13 - 8.059999999999969e-13 - 8.069999999999969e-13 - 8.079999999999969e-13 - 8.089999999999969e-13 - 8.099999999999969e-13 - 8.109999999999968e-13 - 8.119999999999968e-13 - 8.129999999999968e-13 - 8.139999999999968e-13 - 8.149999999999968e-13 - 8.159999999999968e-13 - "
     ]
    }
   ],
   "source": [
    "times_list=[]\n",
    "probs_3_list=[]\n",
    "probs_at_least2_list=[]\n",
    "probs_2_list=[]\n",
    "\n",
    "delta_t=0\n",
    "while delta_t <= t_f:\n",
    "    print(f'{delta_t}',end=' - ')\n",
    "    successes_3=0\n",
    "    successes_at_least2=0\n",
    "    successes_2=0\n",
    "    for i in range(trials):\n",
    "        m1=np.random.poisson(lam=flux_by_second*delta_t)\n",
    "        m2=np.random.poisson(lam=flux_by_second*delta_t)\n",
    "        m3=np.random.poisson(lam=flux_by_second*delta_t)\n",
    "        \n",
    "        m1=np.heaviside(m1,0)\n",
    "        m2=np.heaviside(m2,0)\n",
    "        m3=np.heaviside(m3,0)\n",
    "        \n",
    "        if m1+m2+m3==3:\n",
    "            successes_3+=1     ## three detectors are reached\n",
    "        if m1+m2+m3>=2:\n",
    "            successes_at_least2+=1   ## at least two detectors are reached\n",
    "        if m1+m2+m3==2:\n",
    "            successes_2+=1       ## only two detectors are reached\n",
    "    \n",
    "    probability_3= successes_3/trials\n",
    "    probability_at_least2= successes_at_least2/trials\n",
    "    probability_2= successes_2/trials\n",
    "\n",
    "    times_list.append(delta_t)\n",
    "    probs_3_list.append(probability_3)\n",
    "    probs_at_least2_list.append(probability_at_least2)\n",
    "    probs_2_list.append(probability_2)\n",
    "    \n",
    "    delta_t+=time_step \n",
    "\n",
    "    "
   ]
  },
  {
   "cell_type": "code",
   "execution_count": 1,
   "id": "6d2f37da-9b52-47c1-a122-910c453619ca",
   "metadata": {
    "tags": []
   },
   "outputs": [
    {
     "ename": "NameError",
     "evalue": "name 'plt' is not defined",
     "output_type": "error",
     "traceback": [
      "\u001b[1;31m---------------------------------------------------------------------------\u001b[0m",
      "\u001b[1;31mNameError\u001b[0m                                 Traceback (most recent call last)",
      "Cell \u001b[1;32mIn[1], line 1\u001b[0m\n\u001b[1;32m----> 1\u001b[0m plt\u001b[38;5;241m.\u001b[39mplot(np\u001b[38;5;241m.\u001b[39masarray(times_list)\u001b[38;5;241m*\u001b[39m\u001b[38;5;241m1000\u001b[39m, probs_3_list, label\u001b[38;5;241m=\u001b[39m\u001b[38;5;124m'\u001b[39m\u001b[38;5;124m3 detectors\u001b[39m\u001b[38;5;124m'\u001b[39m)\n\u001b[0;32m      2\u001b[0m plt\u001b[38;5;241m.\u001b[39mplot(np\u001b[38;5;241m.\u001b[39masarray(times_list)\u001b[38;5;241m*\u001b[39m\u001b[38;5;241m1000\u001b[39m, probs_at_least2_list, label\u001b[38;5;241m=\u001b[39m\u001b[38;5;124m'\u001b[39m\u001b[38;5;124mAt least 2 detectors\u001b[39m\u001b[38;5;124m'\u001b[39m)\n\u001b[0;32m      3\u001b[0m plt\u001b[38;5;241m.\u001b[39mplot(np\u001b[38;5;241m.\u001b[39masarray(times_list)\u001b[38;5;241m*\u001b[39m\u001b[38;5;241m1000\u001b[39m, probs_2_list, label\u001b[38;5;241m=\u001b[39m\u001b[38;5;124m'\u001b[39m\u001b[38;5;124mOnly 2 detectors\u001b[39m\u001b[38;5;124m'\u001b[39m)\n",
      "\u001b[1;31mNameError\u001b[0m: name 'plt' is not defined"
     ]
    }
   ],
   "source": [
    "plt.plot(np.asarray(times_list)*1000, probs_3_list, label='3 detectors')\n",
    "plt.plot(np.asarray(times_list)*1000, probs_at_least2_list, label='At least 2 detectors')\n",
    "plt.plot(np.asarray(times_list)*1000, probs_2_list, label='Only 2 detectors')\n",
    "\n",
    "\n",
    "\n",
    "plt.title('Probability of Muon Background Hitting the Detectors')\n",
    "plt.xlabel('Time Delta (ms)')\n",
    "plt.ylabel('Probability')\n",
    "plt.grid(True)\n",
    "plt.legend(loc='best', title=\"\", shadow=True, fancybox=True)\n",
    "plt.show()"
   ]
  },
  {
   "cell_type": "code",
   "execution_count": null,
   "id": "f5ee16d2-de73-4283-91af-4d34ea3b9609",
   "metadata": {},
   "outputs": [],
   "source": []
  }
 ],
 "metadata": {
  "kernelspec": {
   "display_name": "Python 3 (ipykernel)",
   "language": "python",
   "name": "python3"
  },
  "language_info": {
   "codemirror_mode": {
    "name": "ipython",
    "version": 3
   },
   "file_extension": ".py",
   "mimetype": "text/x-python",
   "name": "python",
   "nbconvert_exporter": "python",
   "pygments_lexer": "ipython3",
   "version": "3.11.9"
  }
 },
 "nbformat": 4,
 "nbformat_minor": 5
}
