{
 "cells": [
  {
   "cell_type": "markdown",
   "metadata": {},
   "source": [
    "# Tambo Filter\n"
   ]
  },
  {
   "cell_type": "markdown",
   "metadata": {},
   "source": [
    "We import the necessary libraries "
   ]
  },
  {
   "cell_type": "code",
   "execution_count": 1,
   "metadata": {},
   "outputs": [
    {
     "name": "stderr",
     "output_type": "stream",
     "text": [
      "/home/jd/.local/lib/python3.10/site-packages/pandas/core/arrays/masked.py:62: UserWarning: Pandas requires version '1.3.4' or newer of 'bottleneck' (version '1.3.2' currently installed).\n",
      "  from pandas.core import (\n"
     ]
    }
   ],
   "source": [
    "import pandas as pd\n",
    "import numpy as np"
   ]
  },
  {
   "cell_type": "markdown",
   "metadata": {},
   "source": [
    "The code and a little explanation is provided "
   ]
  },
  {
   "cell_type": "code",
   "execution_count": 2,
   "metadata": {},
   "outputs": [],
   "source": [
    "def Filter_boolean(all_particles_df, charged_particles, length_triangle, a, b):\n",
    "    \"\"\"\n",
    "    Apply geometric and charged particle ID filters to the dataframe of all particles using vectorized operations.\n",
    "    Adjusted to include only particle ID and time in the output for the provided data structure.\n",
    "    \n",
    "    Parameters:\n",
    "    all_particles_df (pd.DataFrame): Dataframe with all particle data, including 'id', 'x', 'y', and 't' columns.\n",
    "    charged_particles (list): List of charged particle IDs to filter.\n",
    "    length_triangle (float): Length of the triangle side.\n",
    "    a (float): The width of the detector.\n",
    "    b (float): The height of the detector.\n",
    "    \n",
    "    Returns:\n",
    "    pd.DataFrame: Filtered dataframe with only the ID and time of particles that hit the detectors.\n",
    "    \"\"\"\n",
    "    # Crear una máscara booleana para los IDs de partículas cargadas\n",
    "    mask_charged = all_particles_df['id'].isin(charged_particles)\n",
    "\n",
    "    # Calcular las máscaras booleanas para cada detector\n",
    "    mask_d1 = ((all_particles_df['x'] >= (length_triangle / np.sqrt(3) - b / 2)) & \n",
    "               (all_particles_df['x'] <= (length_triangle / np.sqrt(3) + b / 2)) & \n",
    "               (all_particles_df['y'] >= -a / 2) & \n",
    "               (all_particles_df['y'] <= a / 2))\n",
    "    \n",
    "    mask_d2 = ((all_particles_df['x'] >= (-length_triangle / (2 * np.sqrt(3)) - b / 2)) & \n",
    "               (all_particles_df['x'] <= (-length_triangle / (2 * np.sqrt(3)) + b / 2)) & \n",
    "               (all_particles_df['y'] >= (length_triangle / 2 - a / 2)) & \n",
    "               (all_particles_df['y'] <= (length_triangle / 2 + a / 2)))\n",
    "    \n",
    "    mask_d3 = ((all_particles_df['x'] >= (-length_triangle / (2 * np.sqrt(3)) - b / 2)) & \n",
    "               (all_particles_df['x'] <= (-length_triangle / (2 * np.sqrt(3)) + b / 2)) & \n",
    "               (all_particles_df['y'] >= (-length_triangle / 2 - a / 2)) & \n",
    "               (all_particles_df['y'] <= (-length_triangle / 2 + a / 2)))\n",
    "\n",
    "    # Aplicar la máscara de IDs cargados y las máscaras de detectores\n",
    "    all_particles_df['Detector'] = 0\n",
    "    all_particles_df.loc[mask_charged & mask_d1, 'Detector'] = 1\n",
    "    all_particles_df.loc[mask_charged & mask_d2, 'Detector'] = 2\n",
    "    all_particles_df.loc[mask_charged & mask_d3, 'Detector'] = 3\n",
    "\n",
    "    # Filtrar las filas donde 'Detector' es diferente de 0 y seleccionar solo las columnas 'id' y 't'\n",
    "    filtered_df = all_particles_df[all_particles_df['Detector'] != 0][['id', 't', 'Detector']].reset_index(drop=True)\n",
    "    df_detector_1 = filtered_df[filtered_df['Detector'] == 1].reset_index(drop=True)\n",
    "    df_detector_2 = filtered_df[filtered_df['Detector'] == 2].reset_index(drop=True)\n",
    "    df_detector_3 = filtered_df[filtered_df['Detector'] == 3].reset_index(drop=True)\n",
    "\n",
    "    return df_detector_1, df_detector_2, df_detector_3\n"
   ]
  }
 ],
 "metadata": {
  "kernelspec": {
   "display_name": "Python 3 (ipykernel)",
   "language": "python",
   "name": "python3"
  },
  "language_info": {
   "codemirror_mode": {
    "name": "ipython",
    "version": 3
   },
   "file_extension": ".py",
   "mimetype": "text/x-python",
   "name": "python",
   "nbconvert_exporter": "python",
   "pygments_lexer": "ipython3",
   "version": "3.11.4"
  }
 },
 "nbformat": 4,
 "nbformat_minor": 4
}
