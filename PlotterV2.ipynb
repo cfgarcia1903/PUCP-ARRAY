{
 "cells": [
  {
   "cell_type": "code",
   "execution_count": null,
   "id": "79c31c8e-8379-4fac-952a-93bcdf341327",
   "metadata": {
    "tags": []
   },
   "outputs": [],
   "source": [
    "import numpy as np\n",
    "import matplotlib.pyplot as plt\n",
    "import pickle\n",
    "import os\n",
    "import seaborn as sns"
   ]
  },
  {
   "cell_type": "markdown",
   "id": "cad27154-0929-4e64-823c-9263ff519f1d",
   "metadata": {},
   "source": [
    "### Useful Functions"
   ]
  },
  {
   "cell_type": "code",
   "execution_count": null,
   "id": "edeb3f76-d95e-4d2b-acc0-5aa8d2e3640f",
   "metadata": {
    "tags": []
   },
   "outputs": [],
   "source": [
    "def list_pickles(path):\n",
    "    pickle_list = []\n",
    "    for name in os.listdir(path):\n",
    "        if name[-7:]=='.pickle':\n",
    "            pickle_list.append(name)\n",
    "    return pickle_list\n",
    "\n",
    "\n",
    "def count_particles(shower_summary,central_det=True):\n",
    "    diccionario=shower_summary[0]\n",
    "    df1=shower_summary[1]\n",
    "    df2=shower_summary[2]\n",
    "    df3=shower_summary[3]\n",
    "    energy=diccionario[\"PRME\"]\n",
    "    A1=len(df1)\n",
    "    A2=len(df2)\n",
    "    A3=len(df3)\n",
    "    part_count= A1+A2+A3\n",
    "    if central_det:\n",
    "        df0=shower_summary[4]\n",
    "        A0=len(df0)\n",
    "        part_count=part_count + A0\n",
    "    return energy,part_count\n",
    "\n",
    "def get_delta_t(shower):\n",
    "    df1=shower[1]\n",
    "    df2=shower[2]\n",
    "    df3=shower[3]\n",
    "    df0=shower[4]\n",
    "    try:\n",
    "        t1= df1.iloc[0][\"t\"]\n",
    "    except:\n",
    "        t1=np.nan\n",
    "    try:\n",
    "        t2=df2.iloc[0][\"t\"]\n",
    "    except:\n",
    "        t2=np.nan\n",
    "    try:\n",
    "        t3=df3.iloc[0][\"t\"]\n",
    "    except:\n",
    "        t3=np.nan\n",
    "    try:\n",
    "        t0=df0.iloc[0][\"t\"]\n",
    "    except:\n",
    "        t0=np.nan\n",
    "\n",
    "    d12=t1-t2\n",
    "    d23=t2-t3\n",
    "    d10=t1-t0\n",
    "    d20=t2-t0\n",
    "    d30=t3-t0\n",
    "    d13=t1-t3\n",
    "    return d10,d20,d30,d12,d23,d13\n",
    "    "
   ]
  },
  {
   "cell_type": "markdown",
   "id": "e847029c-88ab-4196-a0da-4df0c42d5783",
   "metadata": {
    "tags": []
   },
   "source": [
    "## Particle Count Histogram"
   ]
  },
  {
   "cell_type": "markdown",
   "id": "551f59ad-a572-4b2f-a579-77ac8925f223",
   "metadata": {},
   "source": [
    "### Data loading"
   ]
  },
  {
   "cell_type": "code",
   "execution_count": null,
   "id": "85cd4b90-c855-4dc7-abcb-d04f58e8f03c",
   "metadata": {
    "tags": []
   },
   "outputs": [],
   "source": [
    "parent_dir=os.path.join(os.getcwd(),'pickles')\n",
    "\n",
    "showers=[]\n",
    "pickle_names=list_pickles(parent_dir)\n",
    "for pickle_name in pickle_names:\n",
    "    pickle_path=os.path.join(parent_dir,pickle_name)\n",
    "    with open(pickle_path, 'rb') as file:\n",
    "        showers_i = pickle.load(file)\n",
    "    showers=showers+showers_i\n",
    "    print(f\"{pickle_name} has been loaded\")\n",
    "## Loaded data can be found in list: showers\n"
   ]
  },
  {
   "cell_type": "markdown",
   "id": "7db34709-2500-48a9-af76-b68a16efc810",
   "metadata": {},
   "source": [
    "### Data Processing"
   ]
  },
  {
   "cell_type": "code",
   "execution_count": null,
   "id": "744e97d1-580d-411d-bb79-869e1dd91751",
   "metadata": {},
   "outputs": [],
   "source": [
    "\n",
    "e_list=[]\n",
    "count_list=[]\n",
    "for shower in showers:\n",
    "    energy,part_count= count_particles(shower,central_det=True)\n",
    "    e_list.append(energy)\n",
    "    count_list.append(part_count)\n",
    "\n",
    "print('Particles counted')\n",
    "e_unique=list(set(e_list))\n",
    "energies_and_counts={}\n",
    "for energy in e_unique:\n",
    "    c_list=[]\n",
    "    for e,c in zip(e_list,count_list):\n",
    "        if e==energy:\n",
    "            c_list.append(c)\n",
    "    energies_and_counts[energy]=c_list\n",
    "    print(f\"energy {energy}GeV has been processed\")\n",
    "    \n",
    "    \n",
    "#in the end, we have:  e_unique (unique values of the energies)\n",
    "#                      energies_and_counts (dictionary that contains one list per energy, containing particle counts for each shower)"
   ]
  },
  {
   "cell_type": "markdown",
   "id": "82a151c8-81ff-4b5b-b5f2-8008fffea73a",
   "metadata": {
    "tags": []
   },
   "source": [
    "### Plot"
   ]
  },
  {
   "cell_type": "markdown",
   "id": "3466b8ba-0ed3-4c3d-bef0-b92fb2b245dd",
   "metadata": {
    "tags": []
   },
   "source": [
    "#### Plot all energies"
   ]
  },
  {
   "cell_type": "code",
   "execution_count": null,
   "id": "3aa248c3-7bb5-42b1-80e8-14b3deef7a8d",
   "metadata": {},
   "outputs": [],
   "source": [
    "plt.figure(figsize=(8, 6))\n",
    "for energy in e_unique:\n",
    "    data=energies_and_counts[energy]\n",
    "    bin_num=max(data)\n",
    "    plt.hist(data, bins=bin_num,histtype=\"step\", density=True, label=f'PRME: {energy} GeV')\n",
    "\n",
    "plt.xlabel('Particle count')\n",
    "plt.ylabel('Probability distribution')\n",
    "plt.title('Total particle counts for different energies')\n",
    "plt.legend()\n",
    "plt.xlim([0,40])    # X axis limits\n",
    "plt.grid(True)\n",
    "plt.show()\n"
   ]
  },
  {
   "cell_type": "markdown",
   "id": "9d7a14a1-ecf9-49d6-8c61-421a6f04c4f0",
   "metadata": {},
   "source": [
    "#### Plot a specific energy"
   ]
  },
  {
   "cell_type": "code",
   "execution_count": null,
   "id": "de69e120-ecfc-41d9-b7f7-09751f75164d",
   "metadata": {
    "tags": []
   },
   "outputs": [],
   "source": [
    "plt.figure(figsize=(8, 6))\n",
    "for energy in e_unique:\n",
    "    if energy in [70000]:    ## Energy value\n",
    "        data=energies_and_counts[energy]\n",
    "        bin_num=max(data)\n",
    "        plt.hist(data, bins=bin_num,histtype=\"step\", density=True, label=f'PRME: {energy} GeV')\n",
    "\n",
    "plt.xlabel('Particle count')\n",
    "plt.ylabel('Probability distribution')\n",
    "plt.title('Total particle counts for different energies')\n",
    "plt.legend()\n",
    "plt.xlim([0,40])    # X axis limits\n",
    "plt.grid(True)\n",
    "plt.show()\n"
   ]
  },
  {
   "cell_type": "markdown",
   "id": "d5ebb9b8-1906-446f-adf3-3a392236b55f",
   "metadata": {},
   "source": [
    "# Time Deltas Histogram"
   ]
  },
  {
   "cell_type": "markdown",
   "id": "4b962dff-30dd-44e5-95ea-86564ecc0e44",
   "metadata": {},
   "source": [
    "### Data loading"
   ]
  },
  {
   "cell_type": "code",
   "execution_count": null,
   "id": "dd1456b1-7788-41aa-bd85-f957aca4fd5d",
   "metadata": {
    "tags": []
   },
   "outputs": [],
   "source": [
    "parent_dir=os.path.join(os.getcwd(),'pickles')\n",
    "\n",
    "showers=[]\n",
    "pickle_names=list_pickles(parent_dir)\n",
    "for pickle_name in pickle_names:\n",
    "    pickle_path=os.path.join(parent_dir,pickle_name)\n",
    "    with open(pickle_path, 'rb') as file:\n",
    "        showers_i = pickle.load(file)\n",
    "    showers=showers+showers_i\n",
    "    print(f\"{pickle_name} has been loaded\")\n",
    "## Loaded data can be found in list: showers\n"
   ]
  },
  {
   "cell_type": "markdown",
   "id": "e488a614-9021-49cb-b143-6a278e83fe8c",
   "metadata": {},
   "source": [
    "### Data Processing"
   ]
  },
  {
   "cell_type": "code",
   "execution_count": null,
   "id": "7dbc9c4c-f53b-48b7-bf66-202f8ee18ce1",
   "metadata": {},
   "outputs": [],
   "source": [
    "delta_i0_avg_list = []\n",
    "delta_ij_avg_list = []\n",
    "e_list = []\n",
    "\n",
    "for shower in showers:\n",
    "    d10,d20,d30,d12,d23,d13 = get_delta_t(shower)\n",
    "    energy = shower[0]['PRME']\n",
    "    e_list.append(energy)\n",
    "    delta_i0_avg = np.nanmean([d10,d20,d30])\n",
    "    delta_i0_avg_list.append(delta_i0_avg)\n",
    "    delta_ij_avg=np.nanmean([d12,d23,d13])\n",
    "    delta_ij_avg_list.append(delta_ij_avg)\n",
    "    \n",
    "    \n",
    "\n",
    "print('Delta_t\\'s stored')\n",
    "\n",
    "e_unique=list(set(e_list))\n",
    "energies_and_deltasi0={}\n",
    "energies_and_deltasij={}\n",
    "for energy in e_unique:\n",
    "    i0_list=[]\n",
    "    ij_list=[]\n",
    "    for e,i0,ij in zip(e_list,delta_i0_avg_list,delta_ij_avg_list):\n",
    "        if e==energy:\n",
    "            i0_list.append(i0)\n",
    "            ij_list.append(ij)\n",
    "        \n",
    "    energies_and_deltasi0[energy] = i0_list\n",
    "    energies_and_deltasij[energy] = ij_list\n",
    "    \n",
    "    print(f\"energy {energy}GeV has been processed\")\n",
    "    \n",
    "    \n",
    "#in the end, we have:  e_unique (unique values of the energies)\n",
    "#                      energies_and_counts (dictionary that contains one list per energy, containing particle counts for each shower)"
   ]
  },
  {
   "cell_type": "markdown",
   "id": "6218c71c-7f6b-4331-822e-a0d9db99ec6b",
   "metadata": {
    "tags": []
   },
   "source": [
    "### Plot"
   ]
  },
  {
   "cell_type": "markdown",
   "id": "eec44144-24dd-4766-b522-5f19b9cadd88",
   "metadata": {
    "tags": []
   },
   "source": [
    "#### Plot all delta_t_i0"
   ]
  },
  {
   "cell_type": "code",
   "execution_count": null,
   "id": "f8676b6f-c772-4aea-aeb0-c8e8e42ef2a1",
   "metadata": {},
   "outputs": [],
   "source": [
    "plt.figure(figsize=(8, 6))\n",
    "for energy in e_unique:\n",
    "    data=energies_and_deltasi0[energy]\n",
    "    bin_num=200\n",
    "    plt.hist(data, bins=bin_num, histtype=\"step\", density=True, label=f'PRME: {energy} GeV')\n",
    "\n",
    "\n",
    "plt.xlabel('Average delta_t_i0 (ns)')\n",
    "plt.ylabel('Probability distribution')\n",
    "plt.title('Average delta_t_i0 for different energies')\n",
    "plt.legend()\n",
    "plt.xlim([-100,100])    # X axis limits\n",
    "plt.grid(True)\n",
    "plt.show()\n"
   ]
  },
  {
   "cell_type": "markdown",
   "id": "c7039d07-cf31-4b5f-988c-713a71bf07d7",
   "metadata": {
    "tags": []
   },
   "source": [
    "#### Plot delta_t_i0 for a specific energy"
   ]
  },
  {
   "cell_type": "code",
   "execution_count": null,
   "id": "0d641852-19a5-4f48-9ea7-fe48736fef4c",
   "metadata": {},
   "outputs": [],
   "source": [
    "for energy in e_unique:\n",
    "    if energy in [70000]:    ## Energy value\n",
    "        data=energies_and_deltasi0[energy]\n",
    "        mean=np.nanmean(data)\n",
    "        sd=np.nanstd(data)\n",
    "        bin_num=100\n",
    "        \n",
    "        plt.figure(figsize=(8, 6))\n",
    "        plt.hist(data, bins=bin_num,histtype=\"step\", density=True, label=f'PRME: {energy} GeV')\n",
    "        plt.axvline(mean, color='r', linestyle='dashed', linewidth=1)\n",
    "        plt.axvline(mean + sd, color='b', linestyle='dashed', linewidth=1)\n",
    "        plt.axvline(mean - sd, color='b', linestyle='dashed', linewidth=1)\n",
    "        plt.xlabel('Average delta_t_i0 (ns)')\n",
    "        plt.ylabel('Probability distribution')\n",
    "        plt.title('Average delta_t_i0 for different energies')\n",
    "        plt.legend()\n",
    "        plt.xlim([-100,100])    # X axis limits\n",
    "        plt.grid(True)\n",
    "        plt.show()\n"
   ]
  },
  {
   "cell_type": "markdown",
   "id": "6d244659-1ed4-4fc8-8681-518bc73e8a73",
   "metadata": {
    "tags": []
   },
   "source": [
    "#### Plot all delta_t_ij"
   ]
  },
  {
   "cell_type": "code",
   "execution_count": null,
   "id": "4468f833-ea51-4192-a87d-120678d41fb3",
   "metadata": {},
   "outputs": [],
   "source": [
    "plt.figure(figsize=(8, 6))\n",
    "\n",
    "for energy in e_unique:\n",
    "    data=energies_and_deltasij[energy]\n",
    "    bin_num=100\n",
    "    plt.hist(data, bins=bin_num,histtype=\"step\", density=True, label=f'PRME: {energy} GeV')\n",
    "\n",
    "\n",
    "plt.xlabel('Average delta_t_ij (ns)')\n",
    "plt.ylabel('Probability distribution')\n",
    "plt.title('Average delta_t_ij for different energies')\n",
    "plt.legend()\n",
    "plt.xlim([-100,100])    # X axis limits\n",
    "plt.grid(True)\n",
    "plt.show()\n"
   ]
  },
  {
   "cell_type": "markdown",
   "id": "0a77aa19-738a-427f-8366-15130793d248",
   "metadata": {
    "tags": []
   },
   "source": [
    "#### Plot delta_t_ij for a specific energy"
   ]
  },
  {
   "cell_type": "code",
   "execution_count": null,
   "id": "71de593f-5f64-458a-8ee3-ceb2a4c4deac",
   "metadata": {},
   "outputs": [],
   "source": [
    "plt.figure(figsize=(8, 6))\n",
    "for energy in e_unique:\n",
    "    if energy in [70000]:    ## Energy value\n",
    "        data=energies_and_deltasij[energy]\n",
    "        mean=np.nanmean(data)\n",
    "        sd=np.nanstd(data)\n",
    "        bin_num=100\n",
    "        plt.hist(data, bins=bin_num,histtype=\"step\", density=True, label=f'PRME: {energy} GeV')\n",
    "        plt.axvline(mean, color='r', linestyle='dashed', linewidth=1)\n",
    "        plt.axvline(mean + sd, color='b', linestyle='dashed', linewidth=1)\n",
    "        plt.axvline(mean - sd, color='b', linestyle='dashed', linewidth=1)\n",
    "\n",
    "plt.xlabel('Average delta_t_ij (ns)')\n",
    "plt.ylabel('Probability distribution')\n",
    "plt.title('Average delta_t_ij for different energies')\n",
    "plt.legend()\n",
    "plt.xlim([-100,100])    # X axis limits\n",
    "plt.grid(True)\n",
    "plt.show()\n"
   ]
  },
  {
   "cell_type": "markdown",
   "id": "22903546-7bb6-4ec1-af1d-7b6b8e878231",
   "metadata": {},
   "source": [
    "### density distributions"
   ]
  },
  {
   "cell_type": "markdown",
   "id": "7ad4eadf-306c-479c-a477-baf09aaed172",
   "metadata": {
    "tags": []
   },
   "source": [
    "#### Plot all delta_t_i0"
   ]
  },
  {
   "cell_type": "code",
   "execution_count": null,
   "id": "f59b101e-38f3-4cdf-acf6-a059c0bf5f6b",
   "metadata": {},
   "outputs": [],
   "source": [
    "plt.figure(figsize=(8, 6))\n",
    "for energy in e_unique:\n",
    "    data=energies_and_deltasi0[energy]\n",
    "    bin_num=200\n",
    "    sns.kdeplot(data,label = f'PRME: {energy} GeV')\n",
    "\n",
    "\n",
    "plt.xlabel('Average delta_t_i0 (ns)')\n",
    "plt.ylabel('Probability distribution')\n",
    "plt.title('Average delta_t_i0 for different energies')\n",
    "plt.legend()\n",
    "plt.xlim([-100,100])    # X axis limits\n",
    "plt.grid(True)\n",
    "plt.show()\n"
   ]
  },
  {
   "cell_type": "markdown",
   "id": "55fb445d-cbcc-4dcd-a99c-54d5b0ff4069",
   "metadata": {
    "tags": []
   },
   "source": [
    "#### Plot delta_t_i0 for a specific energy"
   ]
  },
  {
   "cell_type": "code",
   "execution_count": null,
   "id": "2702acd0-2b96-4327-a147-e17bf212b3d7",
   "metadata": {},
   "outputs": [],
   "source": [
    "for energy in e_unique:\n",
    "    if energy in [70000]:    ## Energy value\n",
    "        data=energies_and_deltasi0[energy]\n",
    "        mean=np.nanmean(data)\n",
    "        sd=np.nanstd(data)\n",
    "        bin_num=100\n",
    "        \n",
    "        plt.figure(figsize=(8, 6))\n",
    "        sns.kdeplot(data,label = f'PRME: {energy} GeV')\n",
    "        plt.axvline(mean, color='r', linestyle='dashed', linewidth=1)\n",
    "        plt.axvline(mean + sd, color='b', linestyle='dashed', linewidth=1)\n",
    "        plt.axvline(mean - sd, color='b', linestyle='dashed', linewidth=1)\n",
    "        plt.xlabel('Average delta_t_i0 (ns)')\n",
    "        plt.ylabel('Probability distribution')\n",
    "        plt.title('Average delta_t_i0 for different energies')\n",
    "        plt.legend()\n",
    "        plt.xlim([-100,100])    # X axis limits\n",
    "        plt.grid(True)\n",
    "        plt.show()\n"
   ]
  },
  {
   "cell_type": "markdown",
   "id": "d67c48f9-88ee-491f-81d1-acf0242a7944",
   "metadata": {
    "tags": []
   },
   "source": [
    "#### Plot all delta_t_ij"
   ]
  },
  {
   "cell_type": "code",
   "execution_count": null,
   "id": "cd84c2a7-8572-4049-b83a-ab04e2eb366d",
   "metadata": {},
   "outputs": [],
   "source": [
    "plt.figure(figsize=(8, 6))\n",
    "\n",
    "for energy in e_unique:\n",
    "    data=energies_and_deltasij[energy]\n",
    "    bin_num=100\n",
    "    sns.kdeplot(data,label = f'PRME: {energy} GeV')\n",
    "\n",
    "\n",
    "plt.xlabel('Average delta_t_ij (ns)')\n",
    "plt.ylabel('Probability distribution')\n",
    "plt.title('Average delta_t_ij for different energies')\n",
    "plt.legend()\n",
    "plt.xlim([-100,100])    # X axis limits\n",
    "plt.grid(True)\n",
    "plt.show()\n"
   ]
  },
  {
   "cell_type": "markdown",
   "id": "bc1ee79c-486d-49f3-ba13-fb709acc7085",
   "metadata": {
    "tags": []
   },
   "source": [
    "#### Plot delta_t_ij for a specific energy"
   ]
  },
  {
   "cell_type": "code",
   "execution_count": null,
   "id": "25e3cd18-59dc-41c0-925c-5f73a0b01821",
   "metadata": {},
   "outputs": [],
   "source": [
    "plt.figure(figsize=(8, 6))\n",
    "for energy in e_unique:\n",
    "    if energy in [70000]:    ## Energy value\n",
    "        data=energies_and_deltasij[energy]\n",
    "        mean=np.nanmean(data)\n",
    "        sd=np.nanstd(data)\n",
    "        bin_num=100\n",
    "        sns.kdeplot(data,label = f'PRME: {energy} GeV')\n",
    "        plt.axvline(mean, color='r', linestyle='dashed', linewidth=1)\n",
    "        plt.axvline(mean + sd, color='b', linestyle='dashed', linewidth=1)\n",
    "        plt.axvline(mean - sd, color='b', linestyle='dashed', linewidth=1)\n",
    "\n",
    "plt.xlabel('Average delta_t_i0 (ns)')\n",
    "plt.ylabel('Probability distribution')\n",
    "plt.title('Average delta_t_ij for different energies')\n",
    "plt.legend()\n",
    "plt.xlim([-100,100])    # X axis limits\n",
    "plt.grid(True)\n",
    "plt.show()\n"
   ]
  },
  {
   "cell_type": "code",
   "execution_count": null,
   "id": "1e713bae-50ec-429c-8827-2488a095c4c5",
   "metadata": {},
   "outputs": [],
   "source": []
  },
  {
   "cell_type": "code",
   "execution_count": null,
   "id": "bb196285-351f-488a-92e9-6c356c49fa59",
   "metadata": {},
   "outputs": [],
   "source": []
  }
 ],
 "metadata": {
  "kernelspec": {
   "display_name": "Python 3 (ipykernel)",
   "language": "python",
   "name": "python3"
  },
  "language_info": {
   "codemirror_mode": {
    "name": "ipython",
    "version": 3
   },
   "file_extension": ".py",
   "mimetype": "text/x-python",
   "name": "python",
   "nbconvert_exporter": "python",
   "pygments_lexer": "ipython3",
   "version": "3.11.9"
  }
 },
 "nbformat": 4,
 "nbformat_minor": 5
}
