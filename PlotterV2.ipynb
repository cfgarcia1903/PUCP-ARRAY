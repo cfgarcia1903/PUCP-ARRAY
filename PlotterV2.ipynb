{
 "cells": [
  {
   "cell_type": "code",
   "execution_count": 5,
   "id": "79c31c8e-8379-4fac-952a-93bcdf341327",
   "metadata": {
    "tags": []
   },
   "outputs": [],
   "source": [
    "import numpy as np\n",
    "import matplotlib.pyplot as plt\n",
    "from scipy.stats import linregress\n",
    "import pickle\n",
    "import os"
   ]
  },
  {
   "cell_type": "markdown",
   "id": "cad27154-0929-4e64-823c-9263ff519f1d",
   "metadata": {},
   "source": [
    "### Useful Functions"
   ]
  },
  {
   "cell_type": "code",
   "execution_count": 9,
   "id": "edeb3f76-d95e-4d2b-acc0-5aa8d2e3640f",
   "metadata": {
    "tags": []
   },
   "outputs": [],
   "source": [
    "def list_pickles(path):\n",
    "    pickle_list = []\n",
    "    for name in os.listdir(path):\n",
    "        if name[-7:]=='.pickle':\n",
    "            pickle_list.append(name)\n",
    "    return pickle_list\n",
    "\n",
    "\n",
    "def count_particles(shower_summary,central_det=True):\n",
    "    diccionario=shower_summary[0]\n",
    "    df1=shower_summary[1]\n",
    "    df2=shower_summary[2]\n",
    "    df3=shower_summary[3]\n",
    "    energy=diccionario[\"PRME\"]\n",
    "    A1=len(df1)\n",
    "    A2=len(df2)\n",
    "    A3=len(df3)\n",
    "    part_count= A1+A2+A3\n",
    "    if central_det:\n",
    "        df0=shower_summary[4]\n",
    "        A0=len(df0)\n",
    "        part_count=part_count + A0\n",
    "    return energy,part_count"
   ]
  },
  {
   "cell_type": "markdown",
   "id": "e847029c-88ab-4196-a0da-4df0c42d5783",
   "metadata": {},
   "source": [
    "## Particle Count Histogram"
   ]
  },
  {
   "cell_type": "markdown",
   "id": "551f59ad-a572-4b2f-a579-77ac8925f223",
   "metadata": {},
   "source": [
    "### Data loading"
   ]
  },
  {
   "cell_type": "code",
   "execution_count": null,
   "id": "85cd4b90-c855-4dc7-abcb-d04f58e8f03c",
   "metadata": {
    "tags": []
   },
   "outputs": [],
   "source": [
    "parent_dir='C:\\\\Users\\\\cg_h2\\\\Documents\\\\pucp_array\\\\pickles\\\\'\n",
    "\n",
    "showers=[]\n",
    "pickle_names=list_pickles(parent_dir)\n",
    "for pickle_name in pickle_names:\n",
    "    pickle_path=os.path.join(parent_dir,pickle_name)\n",
    "    with open(pickle_path, 'rb') as file:\n",
    "        showers_i = pickle.load(file)\n",
    "    showers=showers+showers_i\n",
    "\n",
    "## Loaded data can be found in list: showers\n"
   ]
  },
  {
   "cell_type": "markdown",
   "id": "7db34709-2500-48a9-af76-b68a16efc810",
   "metadata": {},
   "source": [
    "### Data Processing"
   ]
  },
  {
   "cell_type": "code",
   "execution_count": null,
   "id": "744e97d1-580d-411d-bb79-869e1dd91751",
   "metadata": {},
   "outputs": [],
   "source": [
    "\n",
    "e_list=[]\n",
    "count_list=[]\n",
    "for shower in showers:\n",
    "    energy,part_count= count_particles(shower,central_det=True)\n",
    "    e_list.append[energy]\n",
    "    count_list.append[part_count]\n",
    "\n",
    "e_unique=list(set(e_list))\n",
    "energies_and_counts={}\n",
    "for energy in e_unique:\n",
    "    c_list=[]\n",
    "    for e,c in zip(e_list,count_list):\n",
    "        if e==energy:\n",
    "            c_list.append(c)\n",
    "    energies_and_counts[energy]=c_list\n",
    "    \n",
    "    \n",
    "#in the end, we have:  e_unique (unique values of the energies)\n",
    "#                      energies_and_counts (dictionary that contains one list per energy, containing particle counts for each shower)"
   ]
  },
  {
   "cell_type": "markdown",
   "id": "82a151c8-81ff-4b5b-b5f2-8008fffea73a",
   "metadata": {
    "tags": []
   },
   "source": [
    "### Plot"
   ]
  },
  {
   "cell_type": "code",
   "execution_count": null,
   "id": "3aa248c3-7bb5-42b1-80e8-14b3deef7a8d",
   "metadata": {},
   "outputs": [],
   "source": [
    "plt.figure(figsize=(8, 6))\n",
    "for energy in e_unique:\n",
    "    data=energies_and_counts[energy]\n",
    "    plt.hist(data, bins=15, label=f'PRME: {energy}')\n",
    "\n",
    "plt.xlabel('Particle count')\n",
    "plt.ylabel('Multiplicity')\n",
    "plt.title('Total particle counts for different energies')\n",
    "plt.legend()\n",
    "plt.grid(True)\n",
    "plt.show()\n"
   ]
  }
 ],
 "metadata": {
  "kernelspec": {
   "display_name": "Python 3 (ipykernel)",
   "language": "python",
   "name": "python3"
  },
  "language_info": {
   "codemirror_mode": {
    "name": "ipython",
    "version": 3
   },
   "file_extension": ".py",
   "mimetype": "text/x-python",
   "name": "python",
   "nbconvert_exporter": "python",
   "pygments_lexer": "ipython3",
   "version": "3.11.4"
  }
 },
 "nbformat": 4,
 "nbformat_minor": 5
}
