{
 "cells": [
  {
   "cell_type": "code",
   "execution_count": null,
   "id": "56a66d85-4fdb-44ad-b669-7bb1d8f24400",
   "metadata": {
    "tags": []
   },
   "outputs": [],
   "source": [
    "import numpy as np\n",
    "import matplotlib.pyplot as plt\n",
    "from scipy.stats import linregress"
   ]
  },
  {
   "cell_type": "code",
   "execution_count": null,
   "id": "4a7ab62e-b641-45dd-b3c7-c403bc88dc3b",
   "metadata": {
    "tags": []
   },
   "outputs": [],
   "source": [
    "pickle_path=''\n",
    "\n",
    "## Deserializing the pickle\n",
    "with open('data.pkl', 'rb') as file:\n",
    "    showers = pickle.load(file)"
   ]
  },
  {
   "cell_type": "code",
   "execution_count": 1,
   "id": "53000c71-0e9b-4b2e-b04c-c5fa97ee8fe6",
   "metadata": {
    "tags": []
   },
   "outputs": [
    {
     "ename": "NameError",
     "evalue": "name 'showers' is not defined",
     "output_type": "error",
     "traceback": [
      "\u001b[1;31m---------------------------------------------------------------------------\u001b[0m",
      "\u001b[1;31mNameError\u001b[0m                                 Traceback (most recent call last)",
      "Cell \u001b[1;32mIn[1], line 7\u001b[0m\n\u001b[0;32m      3\u001b[0m detB_list\u001b[38;5;241m=\u001b[39m[]\n\u001b[0;32m      4\u001b[0m detC_list\u001b[38;5;241m=\u001b[39m[]\n\u001b[1;32m----> 7\u001b[0m \u001b[38;5;28;01mfor\u001b[39;00m shower \u001b[38;5;129;01min\u001b[39;00m showers:\n\u001b[0;32m      8\u001b[0m     detA_df,detB_df,detC_df,det0_df,\u001b[38;5;241m=\u001b[39mshower[\u001b[38;5;241m1\u001b[39m:]\n",
      "\u001b[1;31mNameError\u001b[0m: name 'showers' is not defined"
     ]
    }
   ],
   "source": [
    "##PARTE DE FRANCISCO\n",
    "det0_list=[]\n",
    "detA_list=[]\n",
    "detB_list=[]\n",
    "detC_list=[]\n",
    "\n",
    "for shower in showers:\n",
    "    detA_df,detB_df,detC_df,det0_df=shower[1:]\n",
    "    det0_list.append(len(det0_df))\n",
    "    detA_list.append(len(detA_df))\n",
    "    detB_list.append(len(detB_df))\n",
    "    detC_list.append(len(detC_df))\n",
    "\n",
    "det0_unique_counts=list(set(det0_list))\n",
    "detA_unique_counts=list(set(detA_list))\n",
    "detB_unique_counts=list(set(detB_list))\n",
    "detC_unique_counts=list(set(detC_list))\n",
    "\n",
    "det0_showers_with_that_count=[]\n",
    "detA_showers_with_that_count=[]\n",
    "detB_showers_with_that_count=[]\n",
    "detC_showers_with_that_count=[]\n",
    "\n",
    "for det0_count in det0_unique_counts:\n",
    "    det0_showers_with_that_count.append(det0_list.count(det0_count))\n",
    "for detA_count in detA_unique_counts:\n",
    "    detA_showers_with_that_count.append(detA_list.count(detA_count))\n",
    "for detB_count in detB_unique_counts:\n",
    "    detB_showers_with_that_count.append(detB_list.count(detB_count))\n",
    "for detC_count in detC_unique_counts:\n",
    "    detC_showers_with_that_count.append(detC_list.count(detC_count))\n",
    "\n",
    "##     in the end, we have\n",
    "#det0_unique_counts\n",
    "#det0_showers_with_that_count\n",
    "#detA_unique_counts\n",
    "#detA_showers_with_that_count\n",
    "#detB_unique_counts\n",
    "#detB_showers_with_that_count\n",
    "#detC_unique_counts\n",
    "#detC_showers_with_that_count\n",
    "\n",
    "##PARTE DE JD\n"
   ]
  },
  {
   "cell_type": "code",
   "execution_count": null,
   "id": "ede6e0fd-8440-4c79-949f-587431926e26",
   "metadata": {},
   "outputs": [],
   "source": [
    "##PARTE DE FIORELLA\n",
    "\n",
    "\n",
    "\n",
    "\n",
    "##PARTE DE JP\n",
    "E_list = [2,3,4,5,6,7] #cambiar por E_list\n",
    "Part_count_list = [25,23,16,15,9,6]  #cambiar por Part_count_list\n",
    "\n",
    "energy_x = np.asarray(E_list)      #convierte a array par chambear light\n",
    "slope, intercept, r_val, p_val, std_err = linregress(energy_x, Part_count_list)\n",
    "trend_line = slope * energy_x + intercept\n",
    "\n",
    "plt.scatter(energy_x, Part_count_list, color='red') \n",
    "#plt.title('Poner título aquí')\n",
    "plt.plot(energy_x, trend_line, color='lightblue', label=f'Tendencia: y = {slope:.2f}x + {intercept:.2f}\\n$R^2$ = {r_val**2:.4f}')\n",
    "plt.xlabel('Energía') \n",
    "plt.ylabel('Conteo de partículas') \n",
    "plt.legend()\n",
    "plt.grid(True) \n",
    "plt.show() "
   ]
  }
 ],
 "metadata": {
  "kernelspec": {
   "display_name": "Python 3 (ipykernel)",
   "language": "python",
   "name": "python3"
  },
  "language_info": {
   "codemirror_mode": {
    "name": "ipython",
    "version": 3
   },
   "file_extension": ".py",
   "mimetype": "text/x-python",
   "name": "python",
   "nbconvert_exporter": "python",
   "pygments_lexer": "ipython3",
   "version": "3.11.4"
  }
 },
 "nbformat": 4,
 "nbformat_minor": 5
}
